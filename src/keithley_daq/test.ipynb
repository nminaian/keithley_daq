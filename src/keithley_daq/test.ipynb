{
 "cells": [
  {
   "cell_type": "code",
   "execution_count": null,
   "metadata": {},
   "outputs": [],
   "source": [
    "buffer = list(range(27))\n",
    "NUM_CHANNELS = 3\n",
    "SIGNAL_NAMES = [\"ratio\", \"vsense\", \"time\"]\n",
    "SIGNALS_PER_CHANNEL = len(SIGNAL_NAMES)\n",
    "NUM_SIGNALS = NUM_CHANNELS * SIGNALS_PER_CHANNEL\n",
    "data = list(zip(*[buffer[i::NUM_SIGNALS] for i in range(NUM_SIGNALS)], strict=False))\n",
    "print(data)"
   ]
  },
  {
   "cell_type": "code",
   "execution_count": null,
   "metadata": {},
   "outputs": [],
   "source": [
    "from collections import defaultdict\n",
    "\n",
    "a = defaultdict(list)\n",
    "a[\"hi\"].append(1)\n",
    "a"
   ]
  }
 ],
 "metadata": {
  "kernelspec": {
   "display_name": ".venv",
   "language": "python",
   "name": "python3"
  },
  "language_info": {
   "codemirror_mode": {
    "name": "ipython",
    "version": 3
   },
   "file_extension": ".py",
   "mimetype": "text/x-python",
   "name": "python",
   "nbconvert_exporter": "python",
   "pygments_lexer": "ipython3",
   "version": "3.11.7"
  }
 },
 "nbformat": 4,
 "nbformat_minor": 2
}
